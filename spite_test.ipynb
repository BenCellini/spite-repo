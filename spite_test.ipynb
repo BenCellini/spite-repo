{
 "cells": [
  {
   "cell_type": "code",
   "id": "initial_id",
   "metadata": {
    "collapsed": true,
    "ExecuteTime": {
     "end_time": "2024-08-20T03:10:53.150922Z",
     "start_time": "2024-08-20T03:10:52.856622Z"
    }
   },
   "source": [
    "%reset -f\n",
    "%load_ext autoreload\n",
    "%autoreload 2\n",
    "\n",
    "import sys\n",
    "import os\n",
    "import time\n",
    "import numpy as np\n",
    "import pandas as pd\n",
    "import matplotlib.pyplot as plt\n",
    "import matplotlib as mpl"
   ],
   "outputs": [
    {
     "name": "stdout",
     "output_type": "stream",
     "text": [
      "The autoreload extension is already loaded. To reload it, use:\n",
      "  %reload_ext autoreload\n"
     ]
    }
   ],
   "execution_count": 253
  },
  {
   "metadata": {},
   "cell_type": "markdown",
   "source": [
    "# Make fake dataset\n",
    "~15,000,000 points of (x,y,z,xvel, yvel, zvel)"
   ],
   "id": "4879641a8f1c0fdd"
  },
  {
   "metadata": {},
   "cell_type": "markdown",
   "source": "## Choose the size of each dimension",
   "id": "218b2b89d5dc7852"
  },
  {
   "metadata": {
    "ExecuteTime": {
     "end_time": "2024-08-20T03:10:53.180930Z",
     "start_time": "2024-08-20T03:10:53.151922Z"
    }
   },
   "cell_type": "code",
   "source": "grid_size = {'x': 250, 'y': 250, 'z': 250}",
   "id": "ffa841916656f8ce",
   "outputs": [],
   "execution_count": 254
  },
  {
   "metadata": {},
   "cell_type": "markdown",
   "source": "## Calculate total number of points & make vectors for each dimension",
   "id": "ca764f7ad7d87138"
  },
  {
   "metadata": {
    "ExecuteTime": {
     "end_time": "2024-08-20T03:10:53.211930Z",
     "start_time": "2024-08-20T03:10:53.181923Z"
    }
   },
   "cell_type": "code",
   "source": [
    "N = 1\n",
    "for k in grid_size.keys():\n",
    "    N = N * grid_size[k]\n",
    "    \n",
    "print(N, 'points')"
   ],
   "id": "7f640c510efcd018",
   "outputs": [
    {
     "name": "stdout",
     "output_type": "stream",
     "text": [
      "15625000 points\n"
     ]
    }
   ],
   "execution_count": 255
  },
  {
   "metadata": {
    "ExecuteTime": {
     "end_time": "2024-08-20T03:10:53.242957Z",
     "start_time": "2024-08-20T03:10:53.212922Z"
    }
   },
   "cell_type": "code",
   "source": [
    "grid_vector = {}\n",
    "for k in grid_size.keys():\n",
    "    grid_vector[k] = np.arange(0, grid_size[k], step=1)\n",
    "\n",
    "grid_vector"
   ],
   "id": "2b5f5b138d392934",
   "outputs": [
    {
     "data": {
      "text/plain": [
       "{'x': array([  0,   1,   2,   3,   4,   5,   6,   7,   8,   9,  10,  11,  12,\n",
       "         13,  14,  15,  16,  17,  18,  19,  20,  21,  22,  23,  24,  25,\n",
       "         26,  27,  28,  29,  30,  31,  32,  33,  34,  35,  36,  37,  38,\n",
       "         39,  40,  41,  42,  43,  44,  45,  46,  47,  48,  49,  50,  51,\n",
       "         52,  53,  54,  55,  56,  57,  58,  59,  60,  61,  62,  63,  64,\n",
       "         65,  66,  67,  68,  69,  70,  71,  72,  73,  74,  75,  76,  77,\n",
       "         78,  79,  80,  81,  82,  83,  84,  85,  86,  87,  88,  89,  90,\n",
       "         91,  92,  93,  94,  95,  96,  97,  98,  99, 100, 101, 102, 103,\n",
       "        104, 105, 106, 107, 108, 109, 110, 111, 112, 113, 114, 115, 116,\n",
       "        117, 118, 119, 120, 121, 122, 123, 124, 125, 126, 127, 128, 129,\n",
       "        130, 131, 132, 133, 134, 135, 136, 137, 138, 139, 140, 141, 142,\n",
       "        143, 144, 145, 146, 147, 148, 149, 150, 151, 152, 153, 154, 155,\n",
       "        156, 157, 158, 159, 160, 161, 162, 163, 164, 165, 166, 167, 168,\n",
       "        169, 170, 171, 172, 173, 174, 175, 176, 177, 178, 179, 180, 181,\n",
       "        182, 183, 184, 185, 186, 187, 188, 189, 190, 191, 192, 193, 194,\n",
       "        195, 196, 197, 198, 199, 200, 201, 202, 203, 204, 205, 206, 207,\n",
       "        208, 209, 210, 211, 212, 213, 214, 215, 216, 217, 218, 219, 220,\n",
       "        221, 222, 223, 224, 225, 226, 227, 228, 229, 230, 231, 232, 233,\n",
       "        234, 235, 236, 237, 238, 239, 240, 241, 242, 243, 244, 245, 246,\n",
       "        247, 248, 249]),\n",
       " 'y': array([  0,   1,   2,   3,   4,   5,   6,   7,   8,   9,  10,  11,  12,\n",
       "         13,  14,  15,  16,  17,  18,  19,  20,  21,  22,  23,  24,  25,\n",
       "         26,  27,  28,  29,  30,  31,  32,  33,  34,  35,  36,  37,  38,\n",
       "         39,  40,  41,  42,  43,  44,  45,  46,  47,  48,  49,  50,  51,\n",
       "         52,  53,  54,  55,  56,  57,  58,  59,  60,  61,  62,  63,  64,\n",
       "         65,  66,  67,  68,  69,  70,  71,  72,  73,  74,  75,  76,  77,\n",
       "         78,  79,  80,  81,  82,  83,  84,  85,  86,  87,  88,  89,  90,\n",
       "         91,  92,  93,  94,  95,  96,  97,  98,  99, 100, 101, 102, 103,\n",
       "        104, 105, 106, 107, 108, 109, 110, 111, 112, 113, 114, 115, 116,\n",
       "        117, 118, 119, 120, 121, 122, 123, 124, 125, 126, 127, 128, 129,\n",
       "        130, 131, 132, 133, 134, 135, 136, 137, 138, 139, 140, 141, 142,\n",
       "        143, 144, 145, 146, 147, 148, 149, 150, 151, 152, 153, 154, 155,\n",
       "        156, 157, 158, 159, 160, 161, 162, 163, 164, 165, 166, 167, 168,\n",
       "        169, 170, 171, 172, 173, 174, 175, 176, 177, 178, 179, 180, 181,\n",
       "        182, 183, 184, 185, 186, 187, 188, 189, 190, 191, 192, 193, 194,\n",
       "        195, 196, 197, 198, 199, 200, 201, 202, 203, 204, 205, 206, 207,\n",
       "        208, 209, 210, 211, 212, 213, 214, 215, 216, 217, 218, 219, 220,\n",
       "        221, 222, 223, 224, 225, 226, 227, 228, 229, 230, 231, 232, 233,\n",
       "        234, 235, 236, 237, 238, 239, 240, 241, 242, 243, 244, 245, 246,\n",
       "        247, 248, 249]),\n",
       " 'z': array([  0,   1,   2,   3,   4,   5,   6,   7,   8,   9,  10,  11,  12,\n",
       "         13,  14,  15,  16,  17,  18,  19,  20,  21,  22,  23,  24,  25,\n",
       "         26,  27,  28,  29,  30,  31,  32,  33,  34,  35,  36,  37,  38,\n",
       "         39,  40,  41,  42,  43,  44,  45,  46,  47,  48,  49,  50,  51,\n",
       "         52,  53,  54,  55,  56,  57,  58,  59,  60,  61,  62,  63,  64,\n",
       "         65,  66,  67,  68,  69,  70,  71,  72,  73,  74,  75,  76,  77,\n",
       "         78,  79,  80,  81,  82,  83,  84,  85,  86,  87,  88,  89,  90,\n",
       "         91,  92,  93,  94,  95,  96,  97,  98,  99, 100, 101, 102, 103,\n",
       "        104, 105, 106, 107, 108, 109, 110, 111, 112, 113, 114, 115, 116,\n",
       "        117, 118, 119, 120, 121, 122, 123, 124, 125, 126, 127, 128, 129,\n",
       "        130, 131, 132, 133, 134, 135, 136, 137, 138, 139, 140, 141, 142,\n",
       "        143, 144, 145, 146, 147, 148, 149, 150, 151, 152, 153, 154, 155,\n",
       "        156, 157, 158, 159, 160, 161, 162, 163, 164, 165, 166, 167, 168,\n",
       "        169, 170, 171, 172, 173, 174, 175, 176, 177, 178, 179, 180, 181,\n",
       "        182, 183, 184, 185, 186, 187, 188, 189, 190, 191, 192, 193, 194,\n",
       "        195, 196, 197, 198, 199, 200, 201, 202, 203, 204, 205, 206, 207,\n",
       "        208, 209, 210, 211, 212, 213, 214, 215, 216, 217, 218, 219, 220,\n",
       "        221, 222, 223, 224, 225, 226, 227, 228, 229, 230, 231, 232, 233,\n",
       "        234, 235, 236, 237, 238, 239, 240, 241, 242, 243, 244, 245, 246,\n",
       "        247, 248, 249])}"
      ]
     },
     "execution_count": 256,
     "metadata": {},
     "output_type": "execute_result"
    }
   ],
   "execution_count": 256
  },
  {
   "metadata": {},
   "cell_type": "markdown",
   "source": "## Convert vectors to 3D points",
   "id": "bb926775f74fb915"
  },
  {
   "metadata": {
    "ExecuteTime": {
     "end_time": "2024-08-20T03:10:53.303956Z",
     "start_time": "2024-08-20T03:10:53.243956Z"
    }
   },
   "cell_type": "code",
   "source": "xv, yv, zv = np.meshgrid(grid_vector['x'], grid_vector['y'], grid_vector['z'], indexing='ij')",
   "id": "ccf3d04efdbef8d5",
   "outputs": [],
   "execution_count": 257
  },
  {
   "metadata": {},
   "cell_type": "markdown",
   "source": "## Convert 3D coordinates to a 2D list of coordinates",
   "id": "178c16afc9632c1d"
  },
  {
   "metadata": {
    "ExecuteTime": {
     "end_time": "2024-08-20T03:10:53.365465Z",
     "start_time": "2024-08-20T03:10:53.304956Z"
    }
   },
   "cell_type": "code",
   "source": [
    "data = np.array([xv, yv, zv]).reshape(3, -1).T\n",
    "data_df = pd.DataFrame(data, columns=['x', 'y', 'z'])\n",
    "data_df"
   ],
   "id": "56e702986644b9c0",
   "outputs": [
    {
     "data": {
      "text/plain": [
       "            x    y    z\n",
       "0           0    0    0\n",
       "1           0    0    1\n",
       "2           0    0    2\n",
       "3           0    0    3\n",
       "4           0    0    4\n",
       "...       ...  ...  ...\n",
       "15624995  249  249  245\n",
       "15624996  249  249  246\n",
       "15624997  249  249  247\n",
       "15624998  249  249  248\n",
       "15624999  249  249  249\n",
       "\n",
       "[15625000 rows x 3 columns]"
      ],
      "text/html": [
       "<div>\n",
       "<style scoped>\n",
       "    .dataframe tbody tr th:only-of-type {\n",
       "        vertical-align: middle;\n",
       "    }\n",
       "\n",
       "    .dataframe tbody tr th {\n",
       "        vertical-align: top;\n",
       "    }\n",
       "\n",
       "    .dataframe thead th {\n",
       "        text-align: right;\n",
       "    }\n",
       "</style>\n",
       "<table border=\"1\" class=\"dataframe\">\n",
       "  <thead>\n",
       "    <tr style=\"text-align: right;\">\n",
       "      <th></th>\n",
       "      <th>x</th>\n",
       "      <th>y</th>\n",
       "      <th>z</th>\n",
       "    </tr>\n",
       "  </thead>\n",
       "  <tbody>\n",
       "    <tr>\n",
       "      <th>0</th>\n",
       "      <td>0</td>\n",
       "      <td>0</td>\n",
       "      <td>0</td>\n",
       "    </tr>\n",
       "    <tr>\n",
       "      <th>1</th>\n",
       "      <td>0</td>\n",
       "      <td>0</td>\n",
       "      <td>1</td>\n",
       "    </tr>\n",
       "    <tr>\n",
       "      <th>2</th>\n",
       "      <td>0</td>\n",
       "      <td>0</td>\n",
       "      <td>2</td>\n",
       "    </tr>\n",
       "    <tr>\n",
       "      <th>3</th>\n",
       "      <td>0</td>\n",
       "      <td>0</td>\n",
       "      <td>3</td>\n",
       "    </tr>\n",
       "    <tr>\n",
       "      <th>4</th>\n",
       "      <td>0</td>\n",
       "      <td>0</td>\n",
       "      <td>4</td>\n",
       "    </tr>\n",
       "    <tr>\n",
       "      <th>...</th>\n",
       "      <td>...</td>\n",
       "      <td>...</td>\n",
       "      <td>...</td>\n",
       "    </tr>\n",
       "    <tr>\n",
       "      <th>15624995</th>\n",
       "      <td>249</td>\n",
       "      <td>249</td>\n",
       "      <td>245</td>\n",
       "    </tr>\n",
       "    <tr>\n",
       "      <th>15624996</th>\n",
       "      <td>249</td>\n",
       "      <td>249</td>\n",
       "      <td>246</td>\n",
       "    </tr>\n",
       "    <tr>\n",
       "      <th>15624997</th>\n",
       "      <td>249</td>\n",
       "      <td>249</td>\n",
       "      <td>247</td>\n",
       "    </tr>\n",
       "    <tr>\n",
       "      <th>15624998</th>\n",
       "      <td>249</td>\n",
       "      <td>249</td>\n",
       "      <td>248</td>\n",
       "    </tr>\n",
       "    <tr>\n",
       "      <th>15624999</th>\n",
       "      <td>249</td>\n",
       "      <td>249</td>\n",
       "      <td>249</td>\n",
       "    </tr>\n",
       "  </tbody>\n",
       "</table>\n",
       "<p>15625000 rows × 3 columns</p>\n",
       "</div>"
      ]
     },
     "execution_count": 258,
     "metadata": {},
     "output_type": "execute_result"
    }
   ],
   "execution_count": 258
  },
  {
   "metadata": {},
   "cell_type": "markdown",
   "source": [
    "## Add some other values you  may want to pull out\n",
    "These would correspond to xvel, yvel, zvel, etc."
   ],
   "id": "b5a08a19afa9ffea"
  },
  {
   "metadata": {
    "ExecuteTime": {
     "end_time": "2024-08-20T03:10:53.960618Z",
     "start_time": "2024-08-20T03:10:53.366465Z"
    }
   },
   "cell_type": "code",
   "source": [
    "data_df_augment = data_df.copy()\n",
    "data_df_augment['val1'] = data_df_augment['z']**2\n",
    "data_df_augment['val2'] = np.sin(data_df_augment['x']) + np.sin(data_df_augment['y']) + + np.sin(data_df_augment['z'])\n",
    "data_df_augment['val3'] = np.random.normal(loc=0.0, scale=1.0, size=data_df_augment['val1'].shape[0])\n",
    "data_df_augment"
   ],
   "id": "8a6a494f955ff167",
   "outputs": [
    {
     "data": {
      "text/plain": [
       "            x    y    z   val1      val2      val3\n",
       "0           0    0    0      0  0.000000  0.063320\n",
       "1           0    0    1      1  0.841471 -2.184887\n",
       "2           0    0    2      4  0.909297  0.051739\n",
       "3           0    0    3      9  0.141120 -1.565275\n",
       "4           0    0    4     16 -0.756802  2.263395\n",
       "...       ...  ...  ...    ...       ...       ...\n",
       "15624995  249  249  245  60025 -1.498539  0.962556\n",
       "15624996  249  249  246  60516 -0.637566 -0.261776\n",
       "15624997  249  249  247  61009 -0.527519 -0.396644\n",
       "15624998  249  249  248  61504 -1.269574  0.194666\n",
       "15624999  249  249  249  62001 -2.181490 -0.808446\n",
       "\n",
       "[15625000 rows x 6 columns]"
      ],
      "text/html": [
       "<div>\n",
       "<style scoped>\n",
       "    .dataframe tbody tr th:only-of-type {\n",
       "        vertical-align: middle;\n",
       "    }\n",
       "\n",
       "    .dataframe tbody tr th {\n",
       "        vertical-align: top;\n",
       "    }\n",
       "\n",
       "    .dataframe thead th {\n",
       "        text-align: right;\n",
       "    }\n",
       "</style>\n",
       "<table border=\"1\" class=\"dataframe\">\n",
       "  <thead>\n",
       "    <tr style=\"text-align: right;\">\n",
       "      <th></th>\n",
       "      <th>x</th>\n",
       "      <th>y</th>\n",
       "      <th>z</th>\n",
       "      <th>val1</th>\n",
       "      <th>val2</th>\n",
       "      <th>val3</th>\n",
       "    </tr>\n",
       "  </thead>\n",
       "  <tbody>\n",
       "    <tr>\n",
       "      <th>0</th>\n",
       "      <td>0</td>\n",
       "      <td>0</td>\n",
       "      <td>0</td>\n",
       "      <td>0</td>\n",
       "      <td>0.000000</td>\n",
       "      <td>0.063320</td>\n",
       "    </tr>\n",
       "    <tr>\n",
       "      <th>1</th>\n",
       "      <td>0</td>\n",
       "      <td>0</td>\n",
       "      <td>1</td>\n",
       "      <td>1</td>\n",
       "      <td>0.841471</td>\n",
       "      <td>-2.184887</td>\n",
       "    </tr>\n",
       "    <tr>\n",
       "      <th>2</th>\n",
       "      <td>0</td>\n",
       "      <td>0</td>\n",
       "      <td>2</td>\n",
       "      <td>4</td>\n",
       "      <td>0.909297</td>\n",
       "      <td>0.051739</td>\n",
       "    </tr>\n",
       "    <tr>\n",
       "      <th>3</th>\n",
       "      <td>0</td>\n",
       "      <td>0</td>\n",
       "      <td>3</td>\n",
       "      <td>9</td>\n",
       "      <td>0.141120</td>\n",
       "      <td>-1.565275</td>\n",
       "    </tr>\n",
       "    <tr>\n",
       "      <th>4</th>\n",
       "      <td>0</td>\n",
       "      <td>0</td>\n",
       "      <td>4</td>\n",
       "      <td>16</td>\n",
       "      <td>-0.756802</td>\n",
       "      <td>2.263395</td>\n",
       "    </tr>\n",
       "    <tr>\n",
       "      <th>...</th>\n",
       "      <td>...</td>\n",
       "      <td>...</td>\n",
       "      <td>...</td>\n",
       "      <td>...</td>\n",
       "      <td>...</td>\n",
       "      <td>...</td>\n",
       "    </tr>\n",
       "    <tr>\n",
       "      <th>15624995</th>\n",
       "      <td>249</td>\n",
       "      <td>249</td>\n",
       "      <td>245</td>\n",
       "      <td>60025</td>\n",
       "      <td>-1.498539</td>\n",
       "      <td>0.962556</td>\n",
       "    </tr>\n",
       "    <tr>\n",
       "      <th>15624996</th>\n",
       "      <td>249</td>\n",
       "      <td>249</td>\n",
       "      <td>246</td>\n",
       "      <td>60516</td>\n",
       "      <td>-0.637566</td>\n",
       "      <td>-0.261776</td>\n",
       "    </tr>\n",
       "    <tr>\n",
       "      <th>15624997</th>\n",
       "      <td>249</td>\n",
       "      <td>249</td>\n",
       "      <td>247</td>\n",
       "      <td>61009</td>\n",
       "      <td>-0.527519</td>\n",
       "      <td>-0.396644</td>\n",
       "    </tr>\n",
       "    <tr>\n",
       "      <th>15624998</th>\n",
       "      <td>249</td>\n",
       "      <td>249</td>\n",
       "      <td>248</td>\n",
       "      <td>61504</td>\n",
       "      <td>-1.269574</td>\n",
       "      <td>0.194666</td>\n",
       "    </tr>\n",
       "    <tr>\n",
       "      <th>15624999</th>\n",
       "      <td>249</td>\n",
       "      <td>249</td>\n",
       "      <td>249</td>\n",
       "      <td>62001</td>\n",
       "      <td>-2.181490</td>\n",
       "      <td>-0.808446</td>\n",
       "    </tr>\n",
       "  </tbody>\n",
       "</table>\n",
       "<p>15625000 rows × 6 columns</p>\n",
       "</div>"
      ]
     },
     "execution_count": 259,
     "metadata": {},
     "output_type": "execute_result"
    }
   ],
   "execution_count": 259
  },
  {
   "metadata": {},
   "cell_type": "markdown",
   "source": "## Set point to pull out",
   "id": "5226154c0b9f4cb4"
  },
  {
   "metadata": {
    "ExecuteTime": {
     "end_time": "2024-08-20T03:10:53.992625Z",
     "start_time": "2024-08-20T03:10:53.961618Z"
    }
   },
   "cell_type": "code",
   "source": "point = {'x': 30.2, 'y': 14.7, 'z': 28.9}",
   "id": "9858617756042611",
   "outputs": [],
   "execution_count": 260
  },
  {
   "metadata": {},
   "cell_type": "markdown",
   "source": [
    "## Visualize some values in 3D space\n",
    "Note, this will take forever. You may want to comment it out or try it with a smaller gird size"
   ],
   "id": "767c52f39f9ff610"
  },
  {
   "metadata": {
    "ExecuteTime": {
     "end_time": "2024-08-20T03:10:54.022618Z",
     "start_time": "2024-08-20T03:10:53.993618Z"
    }
   },
   "cell_type": "code",
   "source": [
    "# # %matplotlib widget\n",
    "# ax = plt.figure().add_subplot(projection='3d')\n",
    "# ax.scatter(data_df_augment['x'],\n",
    "#            data_df_augment['y'],\n",
    "#            data_df_augment['z'],\n",
    "#            c=data_df_augment['val2'],\n",
    "#            marker='.', cmap='plasma', alpha=0.02)\n",
    "# \n",
    "# ax.scatter(point['x'],\n",
    "#            point['y'],\n",
    "#            point['z'],\n",
    "#            c='black',\n",
    "#            marker='.', s=100, label='point to pull out')\n",
    "# \n",
    "# ax.legend()\n",
    "# plt.show()"
   ],
   "id": "35a6bf1f1fc3f14c",
   "outputs": [],
   "execution_count": 261
  },
  {
   "metadata": {},
   "cell_type": "markdown",
   "source": [
    "# Find point index\n",
    "Find the point in the grids"
   ],
   "id": "af2a06cfbbc61bf7"
  },
  {
   "metadata": {
    "ExecuteTime": {
     "end_time": "2024-08-20T03:10:54.054127Z",
     "start_time": "2024-08-20T03:10:54.023621Z"
    }
   },
   "cell_type": "code",
   "source": [
    "point_min = {}\n",
    "for k in point.keys():\n",
    "    point_min[k] = np.argmin(np.abs(grid_vector[k] - point[k]))\n",
    "    \n",
    "point_min"
   ],
   "id": "9978ab08ff2d362",
   "outputs": [
    {
     "data": {
      "text/plain": [
       "{'x': 30, 'y': 15, 'z': 29}"
      ]
     },
     "execution_count": 262,
     "metadata": {},
     "output_type": "execute_result"
    }
   ],
   "execution_count": 262
  },
  {
   "metadata": {},
   "cell_type": "markdown",
   "source": "Now find the same point in the data-frame using logical indexing",
   "id": "6ae3a679ca99a6ee"
  },
  {
   "metadata": {
    "ExecuteTime": {
     "end_time": "2024-08-20T03:10:54.117126Z",
     "start_time": "2024-08-20T03:10:54.055126Z"
    }
   },
   "cell_type": "code",
   "source": [
    "point_logical = (data_df_augment['x'] == point_min['x']) & (data_df_augment['y'] == point_min['y']) & (data_df_augment['z'] == point_min['z'])\n",
    "# point_logical"
   ],
   "id": "b053356fbbe93aa",
   "outputs": [],
   "execution_count": 263
  },
  {
   "metadata": {
    "ExecuteTime": {
     "end_time": "2024-08-20T03:10:54.147635Z",
     "start_time": "2024-08-20T03:10:54.118127Z"
    }
   },
   "cell_type": "code",
   "source": [
    "point_index = int(np.squeeze(np.where(point_logical)[0]).astype(int))\n",
    "point_index"
   ],
   "id": "20084786b4c27102",
   "outputs": [
    {
     "data": {
      "text/plain": [
       "1878779"
      ]
     },
     "execution_count": 264,
     "metadata": {},
     "output_type": "execute_result"
    }
   ],
   "execution_count": 264
  },
  {
   "metadata": {},
   "cell_type": "markdown",
   "source": [
    "# Pull out point\n",
    "Note it pulls out the closest point to: point = {'x': 30.2, 'y': 14.7, 'z': 28.9}"
   ],
   "id": "39add32877d434f0"
  },
  {
   "metadata": {
    "ExecuteTime": {
     "end_time": "2024-08-20T03:10:58.095054Z",
     "start_time": "2024-08-20T03:10:58.064053Z"
    }
   },
   "cell_type": "code",
   "source": [
    "st = time.time()\n",
    "# data_point = data_df_augment.iloc[point_logical.values, :] # alternative\n",
    "data_point = data_df_augment.iloc[[point_index], :]\n",
    "et = time.time()\n",
    "delta = et - st\n",
    "print('elapsed time for spite test:', delta)\n",
    "data_point"
   ],
   "id": "990418448cf969d",
   "outputs": [
    {
     "name": "stdout",
     "output_type": "stream",
     "text": [
      "elapsed time for spite test: 0.00099945068359375\n"
     ]
    },
    {
     "data": {
      "text/plain": [
       "          x   y   z  val1      val2      val3\n",
       "1878779  30  15  29   841 -1.001378  0.827992"
      ],
      "text/html": [
       "<div>\n",
       "<style scoped>\n",
       "    .dataframe tbody tr th:only-of-type {\n",
       "        vertical-align: middle;\n",
       "    }\n",
       "\n",
       "    .dataframe tbody tr th {\n",
       "        vertical-align: top;\n",
       "    }\n",
       "\n",
       "    .dataframe thead th {\n",
       "        text-align: right;\n",
       "    }\n",
       "</style>\n",
       "<table border=\"1\" class=\"dataframe\">\n",
       "  <thead>\n",
       "    <tr style=\"text-align: right;\">\n",
       "      <th></th>\n",
       "      <th>x</th>\n",
       "      <th>y</th>\n",
       "      <th>z</th>\n",
       "      <th>val1</th>\n",
       "      <th>val2</th>\n",
       "      <th>val3</th>\n",
       "    </tr>\n",
       "  </thead>\n",
       "  <tbody>\n",
       "    <tr>\n",
       "      <th>1878779</th>\n",
       "      <td>30</td>\n",
       "      <td>15</td>\n",
       "      <td>29</td>\n",
       "      <td>841</td>\n",
       "      <td>-1.001378</td>\n",
       "      <td>0.827992</td>\n",
       "    </tr>\n",
       "  </tbody>\n",
       "</table>\n",
       "</div>"
      ]
     },
     "execution_count": 267,
     "metadata": {},
     "output_type": "execute_result"
    }
   ],
   "execution_count": 267
  },
  {
   "metadata": {},
   "cell_type": "markdown",
   "source": "# Time the whole thing",
   "id": "9f8458f8cfe67310"
  },
  {
   "metadata": {
    "ExecuteTime": {
     "end_time": "2024-08-20T03:11:43.951385Z",
     "start_time": "2024-08-20T03:11:43.882778Z"
    }
   },
   "cell_type": "code",
   "source": [
    "st = time.time()\n",
    "\n",
    "point_min = {}\n",
    "for k in point.keys():\n",
    "    point_min[k] = np.argmin(np.abs(grid_vector[k] - point[k]))\n",
    "\n",
    "point_logical = (data_df_augment['x'] == point_min['x']) & (data_df_augment['y'] == point_min['y']) & ( data_df_augment['z'] == point_min['z'])\n",
    "\n",
    "point_index = int(np.squeeze(np.where(point_logical)[0]).astype(int))\n",
    "\n",
    "data_point = data_df_augment.iloc[[point_index], :]\n",
    "\n",
    "et = time.time()\n",
    "delta = et - st\n",
    "\n",
    "print('elapsed time for total spite test:', delta)\n",
    "data_point"
   ],
   "id": "cb77b6ce220c913f",
   "outputs": [
    {
     "name": "stdout",
     "output_type": "stream",
     "text": [
      "elapsed time for total spite test: 0.03400015830993652\n"
     ]
    },
    {
     "data": {
      "text/plain": [
       "          x   y   z  val1      val2      val3\n",
       "1878779  30  15  29   841 -1.001378  0.827992"
      ],
      "text/html": [
       "<div>\n",
       "<style scoped>\n",
       "    .dataframe tbody tr th:only-of-type {\n",
       "        vertical-align: middle;\n",
       "    }\n",
       "\n",
       "    .dataframe tbody tr th {\n",
       "        vertical-align: top;\n",
       "    }\n",
       "\n",
       "    .dataframe thead th {\n",
       "        text-align: right;\n",
       "    }\n",
       "</style>\n",
       "<table border=\"1\" class=\"dataframe\">\n",
       "  <thead>\n",
       "    <tr style=\"text-align: right;\">\n",
       "      <th></th>\n",
       "      <th>x</th>\n",
       "      <th>y</th>\n",
       "      <th>z</th>\n",
       "      <th>val1</th>\n",
       "      <th>val2</th>\n",
       "      <th>val3</th>\n",
       "    </tr>\n",
       "  </thead>\n",
       "  <tbody>\n",
       "    <tr>\n",
       "      <th>1878779</th>\n",
       "      <td>30</td>\n",
       "      <td>15</td>\n",
       "      <td>29</td>\n",
       "      <td>841</td>\n",
       "      <td>-1.001378</td>\n",
       "      <td>0.827992</td>\n",
       "    </tr>\n",
       "  </tbody>\n",
       "</table>\n",
       "</div>"
      ]
     },
     "execution_count": 274,
     "metadata": {},
     "output_type": "execute_result"
    }
   ],
   "execution_count": 274
  },
  {
   "metadata": {},
   "cell_type": "code",
   "outputs": [],
   "execution_count": null,
   "source": "",
   "id": "f0c44228d95616f2"
  }
 ],
 "metadata": {
  "kernelspec": {
   "display_name": "Python 3",
   "language": "python",
   "name": "python3"
  },
  "language_info": {
   "codemirror_mode": {
    "name": "ipython",
    "version": 2
   },
   "file_extension": ".py",
   "mimetype": "text/x-python",
   "name": "python",
   "nbconvert_exporter": "python",
   "pygments_lexer": "ipython2",
   "version": "2.7.6"
  }
 },
 "nbformat": 4,
 "nbformat_minor": 5
}
